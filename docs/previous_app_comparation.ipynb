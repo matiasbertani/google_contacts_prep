{
 "cells": [
  {
   "cell_type": "markdown",
   "metadata": {},
   "source": [
    "# Comparacion de software legacy con nuevo\n",
    "\n",
    "El objetivo de este notebook es realizar una comparacion programatica entre los resultados arrojados por ambos softwares.\n",
    "\n",
    "La mision es que las planillas entregadas por ambos sean identicas, permitiendo iterar de ahora en mas en la nueva version del software. Esta misma."
   ]
  },
  {
   "cell_type": "markdown",
   "metadata": {},
   "source": [
    "## Obtencion de los test\n",
    "\n",
    "Los test fueron guardados con el formato `test-<NAME>.csv`"
   ]
  },
  {
   "cell_type": "code",
   "execution_count": 27,
   "metadata": {},
   "outputs": [
    {
     "name": "stdout",
     "output_type": "stream",
     "text": [
      "['all_users', 'only_one_user']\n"
     ]
    }
   ],
   "source": [
    "import os\n",
    "from pathlib import Path\n",
    "import zipfile\n",
    "import pandas as pd    \n",
    " \n",
    "TESTS_DIRECTORY = Path() / \"test_data\"\n",
    "\n",
    "\n",
    "def get_all_tests() -> list[str]:\n",
    "    return [  \n",
    "        filename.split('-')[-1].split('.')[0]\n",
    "        for filename in os.listdir(TESTS_DIRECTORY) if 'test' in filename\n",
    "    ]\n",
    "\n",
    "all_test = get_all_tests()\n",
    "print(all_test)"
   ]
  },
  {
   "cell_type": "markdown",
   "metadata": {},
   "source": [
    "## Obtencion de los resultado y armado del diccionario tests-results\n",
    "\n",
    "Los resultados por el momento son entregados por el software como zip. Dentro del cual estan las planillas csv correspondiente a cada usuario. El formato de los resultados es `result-<TEST-NAME>-<VERSION>.zip`"
   ]
  },
  {
   "cell_type": "code",
   "execution_count": 25,
   "metadata": {},
   "outputs": [],
   "source": [
    "def get_result_name_for_test(test_name: str) -> str:\n",
    "    return [filename for filename in os.listdir(TESTS_DIRECTORY) if test_name in filename and not 'test' in filename]\n",
    "\n",
    "\n",
    "test_and_result = {\n",
    "    test: get_result_name_for_test(test)\n",
    "    for test in all_test\n",
    "}\n",
    "\n",
    "    "
   ]
  },
  {
   "cell_type": "markdown",
   "metadata": {},
   "source": [
    "## Comparacion\n",
    "\n",
    "Los resultados estan dentro del zip, y para eso hay que abrirlos y leerlos. Hay que tener en cuenta que en la version vieja el separador utilizado en los resultado es \"punto y coma\" `;` y en la nueva version es el default \"coma\" `,`. \n",
    "\n",
    "Para ahcer esto obtive los df de ambos zips como un diccionario por nombre del csv. Y luego realice la comparacion."
   ]
  },
  {
   "cell_type": "code",
   "execution_count": 53,
   "metadata": {},
   "outputs": [
    {
     "name": "stdout",
     "output_type": "stream",
     "text": [
      "test:  all_users\n",
      "----------\n",
      "Checking csv: acattaneo.csv -- ✔\n",
      "Checking csv: ccomandini.csv -- ✔\n",
      "Checking csv: dguzman.csv -- ✔\n",
      "Checking csv: nmanzanarez.csv -- ✔\n",
      "\n",
      "\n",
      "\n",
      "test:  only_one_user\n",
      "----------\n",
      "Checking csv: nmanzanarez.csv -- ✔\n",
      "\n",
      "\n",
      "\n"
     ]
    }
   ],
   "source": [
    "def get_all_csv_from_zipfile(zipfile_name: str) -> str:\n",
    "\n",
    "    with zipfile.ZipFile(TESTS_DIRECTORY/ zipfile_name, 'r') as zip_ref:\n",
    "        dfs = {}\n",
    "        for filename in zip_ref.namelist():\n",
    "            with zip_ref.open(filename) as file: \n",
    "                dfs[filename] = pd.read_csv(file, sep=\";\")\n",
    "    return dfs\n",
    "\n",
    "\n",
    "# def make_comparition(test_and_result):\n",
    "for test, results in test_and_result.items():\n",
    "\n",
    "    print(\"test: \", test)\n",
    "    print(\"-\" * 10)\n",
    "\n",
    "    zip_result_1 = results[0]\n",
    "    zip_result_2 = results[1]\n",
    "\n",
    "    result_df_1 = get_all_csv_from_zipfile(zip_result_1)\n",
    "    result_df_2 = get_all_csv_from_zipfile(zip_result_2)\n",
    "\n",
    "    for csv_name, df in result_df_1.items():\n",
    "        print(f\"Checking csv: {csv_name} -- \", end=\"\")\n",
    "        result_1 = result_df_1[csv_name]\n",
    "        result_2 = result_df_2[csv_name]\n",
    "        pd.testing.assert_frame_equal(result_1, result_2)\n",
    "        print(f'{\"✔\" if result_1.equals(result_2) else \"❌\"}')\n",
    "    print(\"\\n\\n\")\n",
    "\n",
    "# make_comparition(test_and_result)"
   ]
  },
  {
   "cell_type": "markdown",
   "metadata": {},
   "source": [
    "### Conclusion\n",
    "\n",
    "Los dataframe son identicos salvo por la separacion, no se si realmente eso es un problema o no, pero podría configurarse.\n"
   ]
  }
 ],
 "metadata": {
  "kernelspec": {
   "display_name": "google-contacts-prep-q-YFS6vq-py3.11",
   "language": "python",
   "name": "python3"
  },
  "language_info": {
   "codemirror_mode": {
    "name": "ipython",
    "version": 3
   },
   "file_extension": ".py",
   "mimetype": "text/x-python",
   "name": "python",
   "nbconvert_exporter": "python",
   "pygments_lexer": "ipython3",
   "version": "3.11.4"
  }
 },
 "nbformat": 4,
 "nbformat_minor": 2
}
