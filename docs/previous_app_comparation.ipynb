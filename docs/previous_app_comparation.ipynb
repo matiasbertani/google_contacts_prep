{
 "cells": [
  {
   "cell_type": "code",
   "execution_count": 27,
   "metadata": {},
   "outputs": [
    {
     "name": "stdout",
     "output_type": "stream",
     "text": [
      "['all_users', 'only_one_user']\n"
     ]
    }
   ],
   "source": [
    "import os\n",
    "from pathlib import Path\n",
    "import zipfile\n",
    "\n",
    "import pandas as pd    \n",
    "    \n",
    "TESTS_DIRECTORY = Path() / \"test_data\"\n",
    "\n",
    "\n",
    "def get_all_tests() -> list[str]:\n",
    "    return [  \n",
    "        filename.split('-')[-1].split('.')[0]\n",
    "        for filename in os.listdir(TESTS_DIRECTORY) if 'test' in filename\n",
    "    ]\n",
    "\n",
    "all_test = get_all_tests()\n",
    "print(all_test)"
   ]
  },
  {
   "cell_type": "code",
   "execution_count": 25,
   "metadata": {},
   "outputs": [],
   "source": [
    "def get_result_name_for_test(test_name: str) -> str:\n",
    "    return [filename for filename in os.listdir(TESTS_DIRECTORY) if test_name in filename and not 'test' in filename]\n",
    "\n",
    "\n",
    "test_and_result = {\n",
    "    test: get_result_name_for_test(test)\n",
    "    for test in all_test\n",
    "}\n",
    "\n",
    "    "
   ]
  },
  {
   "cell_type": "code",
   "execution_count": null,
   "metadata": {},
   "outputs": [],
   "source": []
  },
  {
   "cell_type": "code",
   "execution_count": 48,
   "metadata": {},
   "outputs": [
    {
     "name": "stdout",
     "output_type": "stream",
     "text": [
      "Checking test:  all_users\n",
      "Checking csv: acattaneo.csvTrue\n",
      "Checking csv: ccomandini.csvTrue\n",
      "Checking csv: dguzman.csvTrue\n",
      "Checking csv: nmanzanarez.csvTrue\n",
      "Checking test:  only_one_user\n",
      "Checking csv: nmanzanarez.csvTrue\n"
     ]
    }
   ],
   "source": [
    "\n",
    "\n",
    "def get_all_csv_from_zipfile(zipfile_name: str) -> str:\n",
    "\n",
    "    with zipfile.ZipFile(TESTS_DIRECTORY/ zipfile_name, 'r') as zip_ref:\n",
    "        dfs = {}\n",
    "        for filename in zip_ref.namelist():\n",
    "            with zip_ref.open(filename) as file: \n",
    "                separator = \";\" if \"legacy\" in zipfile_name else \",\"\n",
    "                dfs[filename] = pd.read_csv(file, sep=separator)\n",
    "    return dfs\n",
    "\n",
    "\n",
    "# def make_comparition(test_and_result):\n",
    "for test, results in test_and_result.items():\n",
    "\n",
    "    print(\"Checking test: \", test)\n",
    "\n",
    "    zip_result_1 = results[0]\n",
    "    zip_result_2 = results[1]\n",
    "\n",
    "    result_df_1 = get_all_csv_from_zipfile(zip_result_1)\n",
    "    result_df_2 = get_all_csv_from_zipfile(zip_result_2)\n",
    "\n",
    "    for csv_name, df in result_df_1.items():\n",
    "        print(f\"Checking csv: {csv_name} -- \", end=\"\")\n",
    "        result_1 = result_df_1[csv_name]\n",
    "        result_2 = result_df_2[csv_name]\n",
    "        pd.testing.assert_frame_equal(result_1,result_2)\n",
    "        print(result_1.equals(result_2))\n",
    "\n",
    "# make_comparition(test_and_result)"
   ]
  },
  {
   "cell_type": "code",
   "execution_count": 44,
   "metadata": {},
   "outputs": [
    {
     "data": {
      "text/plain": [
       "'result-all_users-new.zip'"
      ]
     },
     "execution_count": 44,
     "metadata": {},
     "output_type": "execute_result"
    }
   ],
   "source": [
    "zip_result_2"
   ]
  }
 ],
 "metadata": {
  "kernelspec": {
   "display_name": "google-contacts-prep-q-YFS6vq-py3.11",
   "language": "python",
   "name": "python3"
  },
  "language_info": {
   "codemirror_mode": {
    "name": "ipython",
    "version": 3
   },
   "file_extension": ".py",
   "mimetype": "text/x-python",
   "name": "python",
   "nbconvert_exporter": "python",
   "pygments_lexer": "ipython3",
   "version": "3.11.4"
  }
 },
 "nbformat": 4,
 "nbformat_minor": 2
}
